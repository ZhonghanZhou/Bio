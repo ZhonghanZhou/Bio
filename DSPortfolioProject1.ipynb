{
  "nbformat": 4,
  "nbformat_minor": 0,
  "metadata": {
    "colab": {
      "name": "Untitled1.ipynb",
      "provenance": [],
      "authorship_tag": "ABX9TyNmdpGnhPUO5taOYx2biQ/K",
      "include_colab_link": true
    },
    "kernelspec": {
      "name": "python3",
      "display_name": "Python 3"
    },
    "language_info": {
      "name": "python"
    }
  },
  "cells": [
    {
      "cell_type": "markdown",
      "metadata": {
        "id": "view-in-github",
        "colab_type": "text"
      },
      "source": [
        "<a href=\"https://colab.research.google.com/github/ZhonghanZhou/Bio/blob/master/DSPortfolioProject1.ipynb\" target=\"_parent\"><img src=\"https://colab.research.google.com/assets/colab-badge.svg\" alt=\"Open In Colab\"/></a>"
      ]
    },
    {
      "cell_type": "markdown",
      "metadata": {
        "id": "ygifzZaFskO5"
      },
      "source": [
        "\n",
        "\n",
        "```\n",
        "# This is a test to use an artificial recurrent neural networl called Long Short Term Memory (LSTM), to predict the closing stock price of a corporation (Apple Inc.) using the past 60 day stock price.\n",
        "```\n",
        "\n"
      ]
    },
    {
      "cell_type": "code",
      "metadata": {
        "id": "gxH3SoJUr3gy"
      },
      "source": [
        "import math\n",
        "import pandas_datareader as web\n",
        "import numpy as np\n",
        "import pandas as pd\n",
        "from sklearn.preprocessing import MinMaxScaler\n",
        "from keras.models import Sequential\n",
        "from keras.layers import Dense, LSTM\n",
        "import matplotlib.pyplot as plt\n",
        "plt.style.use('fivethirtyeight')"
      ],
      "execution_count": null,
      "outputs": []
    },
    {
      "cell_type": "code",
      "metadata": {
        "colab": {
          "base_uri": "https://localhost:8080/",
          "height": 450
        },
        "id": "YRV9x6aisfG8",
        "outputId": "d881d7ba-912f-424c-d8aa-2c80cb98c805"
      },
      "source": [
        "#Get the stock quote\n",
        "df = web.DataReader('AAPL', data_source='yahoo', start='2012-01-01', end='2021-11-01')\n",
        "df"
      ],
      "execution_count": null,
      "outputs": [
        {
          "output_type": "execute_result",
          "data": {
            "text/html": [
              "<div>\n",
              "<style scoped>\n",
              "    .dataframe tbody tr th:only-of-type {\n",
              "        vertical-align: middle;\n",
              "    }\n",
              "\n",
              "    .dataframe tbody tr th {\n",
              "        vertical-align: top;\n",
              "    }\n",
              "\n",
              "    .dataframe thead th {\n",
              "        text-align: right;\n",
              "    }\n",
              "</style>\n",
              "<table border=\"1\" class=\"dataframe\">\n",
              "  <thead>\n",
              "    <tr style=\"text-align: right;\">\n",
              "      <th></th>\n",
              "      <th>High</th>\n",
              "      <th>Low</th>\n",
              "      <th>Open</th>\n",
              "      <th>Close</th>\n",
              "      <th>Volume</th>\n",
              "      <th>Adj Close</th>\n",
              "    </tr>\n",
              "    <tr>\n",
              "      <th>Date</th>\n",
              "      <th></th>\n",
              "      <th></th>\n",
              "      <th></th>\n",
              "      <th></th>\n",
              "      <th></th>\n",
              "      <th></th>\n",
              "    </tr>\n",
              "  </thead>\n",
              "  <tbody>\n",
              "    <tr>\n",
              "      <th>2012-01-03</th>\n",
              "      <td>14.732143</td>\n",
              "      <td>14.607143</td>\n",
              "      <td>14.621429</td>\n",
              "      <td>14.686786</td>\n",
              "      <td>302220800.0</td>\n",
              "      <td>12.591936</td>\n",
              "    </tr>\n",
              "    <tr>\n",
              "      <th>2012-01-04</th>\n",
              "      <td>14.810000</td>\n",
              "      <td>14.617143</td>\n",
              "      <td>14.642857</td>\n",
              "      <td>14.765714</td>\n",
              "      <td>260022000.0</td>\n",
              "      <td>12.659607</td>\n",
              "    </tr>\n",
              "    <tr>\n",
              "      <th>2012-01-05</th>\n",
              "      <td>14.948214</td>\n",
              "      <td>14.738214</td>\n",
              "      <td>14.819643</td>\n",
              "      <td>14.929643</td>\n",
              "      <td>271269600.0</td>\n",
              "      <td>12.800155</td>\n",
              "    </tr>\n",
              "    <tr>\n",
              "      <th>2012-01-06</th>\n",
              "      <td>15.098214</td>\n",
              "      <td>14.972143</td>\n",
              "      <td>14.991786</td>\n",
              "      <td>15.085714</td>\n",
              "      <td>318292800.0</td>\n",
              "      <td>12.933965</td>\n",
              "    </tr>\n",
              "    <tr>\n",
              "      <th>2012-01-09</th>\n",
              "      <td>15.276786</td>\n",
              "      <td>15.048214</td>\n",
              "      <td>15.196429</td>\n",
              "      <td>15.061786</td>\n",
              "      <td>394024400.0</td>\n",
              "      <td>12.913449</td>\n",
              "    </tr>\n",
              "    <tr>\n",
              "      <th>...</th>\n",
              "      <td>...</td>\n",
              "      <td>...</td>\n",
              "      <td>...</td>\n",
              "      <td>...</td>\n",
              "      <td>...</td>\n",
              "      <td>...</td>\n",
              "    </tr>\n",
              "    <tr>\n",
              "      <th>2021-10-26</th>\n",
              "      <td>150.839996</td>\n",
              "      <td>149.009995</td>\n",
              "      <td>149.330002</td>\n",
              "      <td>149.320007</td>\n",
              "      <td>60893400.0</td>\n",
              "      <td>149.102402</td>\n",
              "    </tr>\n",
              "    <tr>\n",
              "      <th>2021-10-27</th>\n",
              "      <td>149.729996</td>\n",
              "      <td>148.490005</td>\n",
              "      <td>149.360001</td>\n",
              "      <td>148.850006</td>\n",
              "      <td>56094900.0</td>\n",
              "      <td>148.633087</td>\n",
              "    </tr>\n",
              "    <tr>\n",
              "      <th>2021-10-28</th>\n",
              "      <td>153.169998</td>\n",
              "      <td>149.720001</td>\n",
              "      <td>149.820007</td>\n",
              "      <td>152.570007</td>\n",
              "      <td>100077900.0</td>\n",
              "      <td>152.347656</td>\n",
              "    </tr>\n",
              "    <tr>\n",
              "      <th>2021-10-29</th>\n",
              "      <td>149.940002</td>\n",
              "      <td>146.410004</td>\n",
              "      <td>147.220001</td>\n",
              "      <td>149.800003</td>\n",
              "      <td>124850400.0</td>\n",
              "      <td>149.581696</td>\n",
              "    </tr>\n",
              "    <tr>\n",
              "      <th>2021-11-01</th>\n",
              "      <td>149.699997</td>\n",
              "      <td>147.800003</td>\n",
              "      <td>148.990005</td>\n",
              "      <td>148.960007</td>\n",
              "      <td>74588300.0</td>\n",
              "      <td>148.742920</td>\n",
              "    </tr>\n",
              "  </tbody>\n",
              "</table>\n",
              "<p>2475 rows × 6 columns</p>\n",
              "</div>"
            ],
            "text/plain": [
              "                  High         Low  ...       Volume   Adj Close\n",
              "Date                                ...                         \n",
              "2012-01-03   14.732143   14.607143  ...  302220800.0   12.591936\n",
              "2012-01-04   14.810000   14.617143  ...  260022000.0   12.659607\n",
              "2012-01-05   14.948214   14.738214  ...  271269600.0   12.800155\n",
              "2012-01-06   15.098214   14.972143  ...  318292800.0   12.933965\n",
              "2012-01-09   15.276786   15.048214  ...  394024400.0   12.913449\n",
              "...                ...         ...  ...          ...         ...\n",
              "2021-10-26  150.839996  149.009995  ...   60893400.0  149.102402\n",
              "2021-10-27  149.729996  148.490005  ...   56094900.0  148.633087\n",
              "2021-10-28  153.169998  149.720001  ...  100077900.0  152.347656\n",
              "2021-10-29  149.940002  146.410004  ...  124850400.0  149.581696\n",
              "2021-11-01  149.699997  147.800003  ...   74588300.0  148.742920\n",
              "\n",
              "[2475 rows x 6 columns]"
            ]
          },
          "metadata": {},
          "execution_count": 25
        }
      ]
    },
    {
      "cell_type": "code",
      "metadata": {
        "colab": {
          "base_uri": "https://localhost:8080/"
        },
        "id": "NYmroH7Sv-Mf",
        "outputId": "63b31caf-1b58-448f-ff13-a85c4c08b56a"
      },
      "source": [
        "df.shape"
      ],
      "execution_count": null,
      "outputs": [
        {
          "output_type": "execute_result",
          "data": {
            "text/plain": [
              "(2475, 6)"
            ]
          },
          "metadata": {},
          "execution_count": 26
        }
      ]
    },
    {
      "cell_type": "code",
      "metadata": {
        "colab": {
          "base_uri": "https://localhost:8080/",
          "height": 455
        },
        "id": "p9uJdO8CwCBD",
        "outputId": "d5d0ce9c-7ca7-415e-c6b5-92ee7fa0d152"
      },
      "source": [
        "#Visualize closing price\n",
        "plt.figure(figsize=(16,8))\n",
        "plt.title('Close Price History')\n",
        "plt.plot(df['Close'])\n",
        "plt.xlabel('Date', fontsize=18)\n",
        "plt.ylabel(\"Close Price\")"
      ],
      "execution_count": null,
      "outputs": [
        {
          "output_type": "execute_result",
          "data": {
            "text/plain": [
              "Text(0, 0.5, 'Close Price')"
            ]
          },
          "metadata": {},
          "execution_count": 27
        },
        {
          "output_type": "display_data",
          "data": {
            "image/png": "[encoded data removed]",
            "text/plain": [
              "<Figure size 1152x576 with 1 Axes>"
            ]
          },
          "metadata": {}
        }
      ]
    },
    {
      "cell_type": "code",
      "metadata": {
        "colab": {
          "base_uri": "https://localhost:8080/"
        },
        "id": "QKRWkJaVxFmq",
        "outputId": "6f14fbe4-76cd-4486-cb97-b1874113a76c"
      },
      "source": [
        "#Create a new dataframe with only closing colume\n",
        "data = df.filter(['Close'])\n",
        "dataset = data.values\n",
        "\n",
        "training_data_len = math.ceil(len(dataset)*.8)\n",
        "\n",
        "training_data_len"
      ],
      "execution_count": null,
      "outputs": [
        {
          "output_type": "execute_result",
          "data": {
            "text/plain": [
              "1980"
            ]
          },
          "metadata": {},
          "execution_count": 28
        }
      ]
    },
    {
      "cell_type": "code",
      "metadata": {
        "colab": {
          "base_uri": "https://localhost:8080/"
        },
        "id": "NSuKp_-Jxl0X",
        "outputId": "7ac8ed1b-3176-4531-cba4-c6c89dab4572"
      },
      "source": [
        "#Scale the data\n",
        "scaler = MinMaxScaler(feature_range=(0,1))\n",
        "scaled_data = scaler.fit_transform(dataset)\n",
        "\n",
        "scaled_data"
      ],
      "execution_count": null,
      "outputs": [
        {
          "output_type": "execute_result",
          "data": {
            "text/plain": [
              "array([[0.00517915],\n",
              "       [0.00573209],\n",
              "       [0.00688052],\n",
              "       ...,\n",
              "       [0.97113687],\n",
              "       [0.95173127],\n",
              "       [0.94584657]])"
            ]
          },
          "metadata": {},
          "execution_count": 29
        }
      ]
    },
    {
      "cell_type": "code",
      "metadata": {
        "colab": {
          "base_uri": "https://localhost:8080/"
        },
        "id": "VGOI-pDYyEBT",
        "outputId": "aba338d6-f9c3-43eb-d0e7-c591b07ebad4"
      },
      "source": [
        "#Create the training dataset\n",
        "#Create the scaled training dataset\n",
        "train_data = scaled_data[0:training_data_len , :]\n",
        "\n",
        "x_train = []\n",
        "y_train = []\n",
        "\n",
        "for i in range(60, len(train_data)):\n",
        "  x_train.append(train_data[i-60:i, 0])\n",
        "  y_train.append(train_data[i, 0])\n",
        "  if i<=60:\n",
        "    print(x_train)\n",
        "    print(y_train)\n",
        "    print()"
      ],
      "execution_count": null,
      "outputs": [
        {
          "output_type": "stream",
          "name": "stdout",
          "text": [
            "[array([0.00517915, 0.00573209, 0.00688052, 0.0079739 , 0.00780626,\n",
            "       0.00818406, 0.00801143, 0.00772119, 0.00732587, 0.00854936,\n",
            "       0.00965275, 0.00931247, 0.00744847, 0.0092274 , 0.007476  ,\n",
            "       0.01404377, 0.01353586, 0.0141989 , 0.01563254, 0.01650074,\n",
            "       0.01642818, 0.01616047, 0.01730138, 0.01837474, 0.01959072,\n",
            "       0.0215548 , 0.02568061, 0.02574316, 0.02804001, 0.02975638,\n",
            "       0.02680652, 0.02794242, 0.02791991, 0.03110496, 0.03065209,\n",
            "       0.03149026, 0.03299647, 0.03383465, 0.03624909, 0.03800799,\n",
            "       0.0385159 , 0.03869355, 0.03568614, 0.03496055, 0.03506814,\n",
            "       0.03789542, 0.03869105, 0.04039993, 0.04442815, 0.04980247,\n",
            "       0.04879666, 0.04879916, 0.05268478, 0.05390076, 0.05303505,\n",
            "       0.05224443, 0.05142127, 0.05415595, 0.05603247, 0.0568181 ])]\n",
            "[0.05487653421186173]\n",
            "\n"
          ]
        }
      ]
    },
    {
      "cell_type": "code",
      "metadata": {
        "id": "eqUKaOU_zX3S"
      },
      "source": [
        "#Convert the x_train and y_train to numpy arrays\n",
        "x_train, y_train = np.array(x_train), np.array(y_train)"
      ],
      "execution_count": null,
      "outputs": []
    },
    {
      "cell_type": "code",
      "metadata": {
        "colab": {
          "base_uri": "https://localhost:8080/"
        },
        "id": "usfAQle1znby",
        "outputId": "02a52b5b-8fed-4c9b-e5a4-23f3891c2f22"
      },
      "source": [
        "#Reshape the data\n",
        "x_train = np.reshape(x_train, (x_train.shape[0], x_train.shape[1], 1))\n",
        "x_train.shape"
      ],
      "execution_count": null,
      "outputs": [
        {
          "output_type": "execute_result",
          "data": {
            "text/plain": [
              "(1920, 60, 1)"
            ]
          },
          "metadata": {},
          "execution_count": 32
        }
      ]
    },
    {
      "cell_type": "code",
      "metadata": {
        "id": "WMe-jQwo0Aj9"
      },
      "source": [
        "#Build LSTM model\n",
        "model = Sequential()\n",
        "model.add(LSTM(50, return_sequences=True, input_shape = (x_train.shape[1], 1)))\n",
        "model.add(LSTM(50, return_sequences= False))\n",
        "model.add(Dense(25))\n",
        "model.add(Dense(1))"
      ],
      "execution_count": null,
      "outputs": []
    },
    {
      "cell_type": "code",
      "metadata": {
        "id": "fjqXoZhM01RD"
      },
      "source": [
        "#Compile the model\n",
        "model.compile(optimizer='adam', loss='mean_squared_error')"
      ],
      "execution_count": null,
      "outputs": []
    },
    {
      "cell_type": "code",
      "metadata": {
        "colab": {
          "base_uri": "https://localhost:8080/"
        },
        "id": "4_lmkjne1Gwl",
        "outputId": "db451c9e-bbcd-4d30-8717-95ec4a042508"
      },
      "source": [
        "#Train the model\n",
        "model.fit(x_train, y_train, batch_size=1, epochs=1)"
      ],
      "execution_count": null,
      "outputs": [
        {
          "output_type": "stream",
          "name": "stdout",
          "text": [
            "1920/1920 [==============================] - 48s 24ms/step - loss: 2.1468e-04\n"
          ]
        },
        {
          "output_type": "execute_result",
          "data": {
            "text/plain": [
              "<keras.callbacks.History at 0x7f98d4300e90>"
            ]
          },
          "metadata": {},
          "execution_count": 36
        }
      ]
    },
    {
      "cell_type": "code",
      "metadata": {
        "id": "NNpmvTCH1k-v"
      },
      "source": [
        "#Create the testing data set\n",
        "#Create a new array containing scaled vales\n",
        "test_data = scaled_data[training_data_len - 60: , :]\n",
        "#Create the data sets x_test, y_test\n",
        "x_test = []\n",
        "y_test = dataset[training_data_len:, :]\n",
        "for i in range(60, len(test_data)):\n",
        "  x_test.append(test_data[i-60:i, 0])\n"
      ],
      "execution_count": null,
      "outputs": []
    },
    {
      "cell_type": "code",
      "metadata": {
        "id": "7cHno9Xr2YM5"
      },
      "source": [
        "#Convert data tp a nu,py array\n",
        "x_test = np.array(x_test)"
      ],
      "execution_count": null,
      "outputs": []
    },
    {
      "cell_type": "code",
      "metadata": {
        "id": "QRSShr402hXz"
      },
      "source": [
        "#Reshape the data\n",
        "x_test = np.reshape(x_test, (x_test.shape[0], x_test.shape[1], 1))\n"
      ],
      "execution_count": null,
      "outputs": []
    },
    {
      "cell_type": "code",
      "metadata": {
        "id": "KBx3XPZQ23es"
      },
      "source": [
        "#Get the models predicted price values\n",
        "predictions = model.predict(x_test)\n",
        "predictions = scaler.inverse_transform(predictions)"
      ],
      "execution_count": null,
      "outputs": []
    },
    {
      "cell_type": "code",
      "metadata": {
        "colab": {
          "base_uri": "https://localhost:8080/"
        },
        "id": "q7ausX_a3TFR",
        "outputId": "107eac87-478a-48c5-b4ca-193cc5d3452a"
      },
      "source": [
        "#Get the root mean squared error (RMSE)\n",
        "rmse = np.sqrt(np.mean(predictions - y_test)**2)\n",
        "rmse"
      ],
      "execution_count": null,
      "outputs": [
        {
          "output_type": "execute_result",
          "data": {
            "text/plain": [
              "7.2366764261264995"
            ]
          },
          "metadata": {},
          "execution_count": 45
        }
      ]
    },
    {
      "cell_type": "code",
      "metadata": {
        "colab": {
          "base_uri": "https://localhost:8080/",
          "height": 560
        },
        "id": "ttbYxjP_5vt7",
        "outputId": "628ae294-43c2-471c-e29b-c880696bef34"
      },
      "source": [
        "#Plot the data\n",
        "train = data[:training_data_len]\n",
        "valid = data[training_data_len: ]\n",
        "valid['Predictions'] = predictions\n",
        "#Visualize the model\n",
        "plt.figure(figsize=(16,8))\n",
        "plt.title('Model')\n",
        "plt.xlabel(\"Data\", fontsize=18)\n",
        "plt.ylabel(\"Close Price USD\")\n",
        "plt.plot(train['Close'])\n",
        "plt.plot(valid[['Close', 'Predictions']])\n",
        "plt.legend(['Train', 'Val', 'Predictions'], loc='lower right')\n",
        "plt.show()"
      ],
      "execution_count": null,
      "outputs": [
        {
          "output_type": "stream",
          "name": "stderr",
          "text": [
            "/usr/local/lib/python3.7/dist-packages/ipykernel_launcher.py:4: SettingWithCopyWarning: \n",
            "A value is trying to be set on a copy of a slice from a DataFrame.\n",
            "Try using .loc[row_indexer,col_indexer] = value instead\n",
            "\n",
            "See the caveats in the documentation: https://pandas.pydata.org/pandas-docs/stable/user_guide/indexing.html#returning-a-view-versus-a-copy\n",
            "  after removing the cwd from sys.path.\n"
          ]
        },
        {
          "output_type": "display_data",
          "data": {
            "image/png": "[encoded data removed]",
            "text/plain": [
              "<Figure size 1152x576 with 1 Axes>"
            ]
          },
          "metadata": {}
        }
      ]
    },
    {
      "cell_type": "code",
      "metadata": {
        "colab": {
          "base_uri": "https://localhost:8080/",
          "height": 450
        },
        "id": "NuM48I_S7T21",
        "outputId": "7b087a11-a4cb-4287-a917-455e5ab11aff"
      },
      "source": [
        "#Show the valid price and predicted price\n",
        "valid"
      ],
      "execution_count": null,
      "outputs": [
        {
          "output_type": "execute_result",
          "data": {
            "text/html": [
              "<div>\n",
              "<style scoped>\n",
              "    .dataframe tbody tr th:only-of-type {\n",
              "        vertical-align: middle;\n",
              "    }\n",
              "\n",
              "    .dataframe tbody tr th {\n",
              "        vertical-align: top;\n",
              "    }\n",
              "\n",
              "    .dataframe thead th {\n",
              "        text-align: right;\n",
              "    }\n",
              "</style>\n",
              "<table border=\"1\" class=\"dataframe\">\n",
              "  <thead>\n",
              "    <tr style=\"text-align: right;\">\n",
              "      <th></th>\n",
              "      <th>Close</th>\n",
              "      <th>Predictions</th>\n",
              "    </tr>\n",
              "    <tr>\n",
              "      <th>Date</th>\n",
              "      <th></th>\n",
              "      <th></th>\n",
              "    </tr>\n",
              "  </thead>\n",
              "  <tbody>\n",
              "    <tr>\n",
              "      <th>2019-11-14</th>\n",
              "      <td>65.660004</td>\n",
              "      <td>62.835918</td>\n",
              "    </tr>\n",
              "    <tr>\n",
              "      <th>2019-11-15</th>\n",
              "      <td>66.440002</td>\n",
              "      <td>63.068172</td>\n",
              "    </tr>\n",
              "    <tr>\n",
              "      <th>2019-11-18</th>\n",
              "      <td>66.775002</td>\n",
              "      <td>63.323849</td>\n",
              "    </tr>\n",
              "    <tr>\n",
              "      <th>2019-11-19</th>\n",
              "      <td>66.572502</td>\n",
              "      <td>63.595394</td>\n",
              "    </tr>\n",
              "    <tr>\n",
              "      <th>2019-11-20</th>\n",
              "      <td>65.797501</td>\n",
              "      <td>63.817329</td>\n",
              "    </tr>\n",
              "    <tr>\n",
              "      <th>...</th>\n",
              "      <td>...</td>\n",
              "      <td>...</td>\n",
              "    </tr>\n",
              "    <tr>\n",
              "      <th>2021-10-26</th>\n",
              "      <td>149.320007</td>\n",
              "      <td>136.326111</td>\n",
              "    </tr>\n",
              "    <tr>\n",
              "      <th>2021-10-27</th>\n",
              "      <td>148.850006</td>\n",
              "      <td>136.679581</td>\n",
              "    </tr>\n",
              "    <tr>\n",
              "      <th>2021-10-28</th>\n",
              "      <td>152.570007</td>\n",
              "      <td>136.892838</td>\n",
              "    </tr>\n",
              "    <tr>\n",
              "      <th>2021-10-29</th>\n",
              "      <td>149.800003</td>\n",
              "      <td>137.469528</td>\n",
              "    </tr>\n",
              "    <tr>\n",
              "      <th>2021-11-01</th>\n",
              "      <td>148.960007</td>\n",
              "      <td>137.746429</td>\n",
              "    </tr>\n",
              "  </tbody>\n",
              "</table>\n",
              "<p>495 rows × 2 columns</p>\n",
              "</div>"
            ],
            "text/plain": [
              "                 Close  Predictions\n",
              "Date                               \n",
              "2019-11-14   65.660004    62.835918\n",
              "2019-11-15   66.440002    63.068172\n",
              "2019-11-18   66.775002    63.323849\n",
              "2019-11-19   66.572502    63.595394\n",
              "2019-11-20   65.797501    63.817329\n",
              "...                ...          ...\n",
              "2021-10-26  149.320007   136.326111\n",
              "2021-10-27  148.850006   136.679581\n",
              "2021-10-28  152.570007   136.892838\n",
              "2021-10-29  149.800003   137.469528\n",
              "2021-11-01  148.960007   137.746429\n",
              "\n",
              "[495 rows x 2 columns]"
            ]
          },
          "metadata": {},
          "execution_count": 47
        }
      ]
    },
    {
      "cell_type": "code",
      "metadata": {
        "id": "KU5jjS4j7lIF"
      },
      "source": [
        "#Get the quote \n",
        "apple_quote = web.DataReader('AAPL', data_source='yahoo', start='2012-01-01', end='2021-12-17')\n",
        "#Create a new dataframe\n",
        "new_df = apple_quote.filter(['Close'])\n",
        "#Get the last 60 days closing price\n",
        "last_60_days = new_df[-60:].values\n",
        "last_60_days_scaled = scaler.transform(last_60_days)\n",
        "\n",
        "X_test = []\n",
        "X_test.append(last_60_days_scaled)\n",
        "\n",
        "X_test = np.array(X_test)\n",
        "\n",
        "X_test = np.reshape(X_test, (X_test.shape[0], X_test.shape[1], 1))\n",
        "\n",
        "pred_price = model.predict(X_test)\n",
        "\n",
        "pred_price = scaler.inverse_transform(pred_price)\n",
        "print(pred_price)"
      ],
      "execution_count": null,
      "outputs": []
    }
  ]
}